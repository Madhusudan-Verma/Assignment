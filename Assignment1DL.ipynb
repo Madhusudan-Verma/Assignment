{
  "cells": [
    {
      "cell_type": "markdown",
      "metadata": {
        "id": "d1J8jgXpPHss"
      },
      "source": [
        "## Using models from library"
      ]
    },
    {
      "cell_type": "code",
      "source": [
        "import tensorflow as tf\n",
        "from tensorflow.keras.datasets import mnist\n",
        "import matplotlib.pyplot as plt\n",
        "from sklearn.model_selection import train_test_split\n",
        "from sklearn.preprocessing import StandardScaler\n",
        "from sklearn.linear_model import LogisticRegression\n",
        "from sklearn.ensemble import RandomForestClassifier\n",
        "from sklearn.svm import SVC\n",
        "from sklearn.neighbors import KNeighborsClassifier\n",
        "from sklearn.metrics import accuracy_score, precision_score, recall_score, f1_score, confusion_matrix"
      ],
      "metadata": {
        "id": "7pnjvm5A3Jdi"
      },
      "execution_count": 10,
      "outputs": []
    },
    {
      "cell_type": "code",
      "execution_count": 14,
      "metadata": {
        "colab": {
          "base_uri": "https://localhost:8080/",
          "height": 1000
        },
        "id": "ZnBL54XTK7_d",
        "outputId": "c4935103-347c-4d4c-a73a-a0b2652c4a64"
      },
      "outputs": [
        {
          "output_type": "display_data",
          "data": {
            "text/plain": [
              "<Figure size 1000x500 with 5 Axes>"
            ],
            "image/png": "[encoded data removed]"
          },
          "metadata": {}
        },
        {
          "output_type": "stream",
          "name": "stdout",
          "text": [
            "Training Logistic Regression...\n"
          ]
        },
        {
          "output_type": "stream",
          "name": "stderr",
          "text": [
            "/usr/local/lib/python3.10/dist-packages/sklearn/linear_model/_logistic.py:458: ConvergenceWarning: lbfgs failed to converge (status=1):\n",
            "STOP: TOTAL NO. of ITERATIONS REACHED LIMIT.\n",
            "\n",
            "Increase the number of iterations (max_iter) or scale the data as shown in:\n",
            "    https://scikit-learn.org/stable/modules/preprocessing.html\n",
            "Please also refer to the documentation for alternative solver options:\n",
            "    https://scikit-learn.org/stable/modules/linear_model.html#logistic-regression\n",
            "  n_iter_i = _check_optimize_result(\n"
          ]
        },
        {
          "output_type": "stream",
          "name": "stdout",
          "text": [
            "Accuracy: 0.9188333333333333, Precision: 0.9185304103722639, Recall: 0.9188333333333333, F1-score: 0.9185616230908087\n",
            "Confusion Matrix:\n",
            "[[1138    1    4    1    4    6   10    4    4    3]\n",
            " [   0 1275    9    6    1    5    1    3   19    3]\n",
            " [   3   15 1063   12   14    7   18   15   21    6]\n",
            " [   4    5   38 1072    3   39    5   10   22   21]\n",
            " [   4    3    5    4 1104    2    8    2    4   40]\n",
            " [  21   10   11   32   12  958   12    7   34    7]\n",
            " [  10    3    8    0    5   17 1129    1    4    0]\n",
            " [   4   18   16   12   11    1    0 1201    1   35]\n",
            " [  12   32   13   33    9   30   11    7 1002   11]\n",
            " [   8    4    7   12   28    7    0   35    9 1084]]\n",
            "\n",
            "Training Random Forest...\n",
            "Accuracy: 0.9684166666666667, Precision: 0.9684456605547754, Recall: 0.9684166666666667, F1-score: 0.968404852904128\n",
            "Confusion Matrix:\n",
            "[[1156    0    1    0    3    2    2    0    9    2]\n",
            " [   0 1302   10    4    2    0    1    1    0    2]\n",
            " [   2    5 1145    3    4    0    2    7    5    1]\n",
            " [   3    0   18 1159    1   13    0    8    8    9]\n",
            " [   3    0    1    0 1140    0    2    3    1   26]\n",
            " [   5    3    2   13    2 1064    5    0    8    2]\n",
            " [   6    0    0    0    2    6 1159    0    4    0]\n",
            " [   1   13   12    1    5    0    0 1250    4   13]\n",
            " [   2    2    9   11    8   10    3    2 1110    3]\n",
            " [   6    2    5    8   10    5    2   14    6 1136]]\n",
            "\n",
            "Training Knn...\n",
            "Accuracy: 0.9465, Precision: 0.9467200229964716, Recall: 0.9465, F1-score: 0.9463245256512446\n",
            "Confusion Matrix:\n",
            "[[1160    0    1    1    1    1    8    1    1    1]\n",
            " [   0 1312    7    0    1    0    2    0    0    0]\n",
            " [  14   13 1099   17    4    2   11    9    3    2]\n",
            " [   1    1   18 1156    0   19    1    9   10    4]\n",
            " [   2   13   13    1 1102    1    2    4    0   38]\n",
            " [  14    3    3   37    2 1012   13    2   13    5]\n",
            " [  10    3    4    0    1    5 1154    0    0    0]\n",
            " [   1   17    7    6   12    0    0 1214    1   41]\n",
            " [   8   11   12   23   13   39    4    6 1034   10]\n",
            " [   4    1    9   11   18    1    0   32    3 1115]]\n",
            "\n",
            "Training Logistic Regression...\n"
          ]
        },
        {
          "output_type": "stream",
          "name": "stderr",
          "text": [
            "/usr/local/lib/python3.10/dist-packages/sklearn/linear_model/_logistic.py:458: ConvergenceWarning: lbfgs failed to converge (status=1):\n",
            "STOP: TOTAL NO. of ITERATIONS REACHED LIMIT.\n",
            "\n",
            "Increase the number of iterations (max_iter) or scale the data as shown in:\n",
            "    https://scikit-learn.org/stable/modules/preprocessing.html\n",
            "Please also refer to the documentation for alternative solver options:\n",
            "    https://scikit-learn.org/stable/modules/linear_model.html#logistic-regression\n",
            "  n_iter_i = _check_optimize_result(\n"
          ]
        },
        {
          "output_type": "stream",
          "name": "stdout",
          "text": [
            "Accuracy: 0.9148333333333334, Precision: 0.9145443988466518, Recall: 0.9148333333333334, F1-score: 0.9145199688943688\n",
            "Confusion Matrix:\n",
            "[[2845    4   11    4   14   21   26   11   16    4]\n",
            " [   0 3212   21   17    6   15    2    8   43    5]\n",
            " [  18   28 2623   38   37   11   43   56   51   15]\n",
            " [  12   17   87 2724    6   95    9   39   52   36]\n",
            " [   7   14   20    4 2713    5   32   13   15  107]\n",
            " [  43   24   21   84   32 2399   46   18   72   28]\n",
            " [  19    5   19    0   21   31 2907    8   11    1]\n",
            " [   7   35   39   14   39    5    0 2911    1  107]\n",
            " [  27   88   42   78   24   87   35   15 2418   42]\n",
            " [  18    9   11   33   94   20    0   94   13 2693]]\n",
            "\n",
            "Training Random Forest...\n",
            "Accuracy: 0.9630333333333333, Precision: 0.9630536001432877, Recall: 0.9630333333333333, F1-score: 0.9630038657366305\n",
            "Confusion Matrix:\n",
            "[[2899    0    4    3    3    4   15    0   25    3]\n",
            " [   0 3267   24    9    9    3    4    5    5    3]\n",
            " [   8    7 2825   10   16    3   16   18   13    4]\n",
            " [   6    2   60 2901    2   36    5   22   29   14]\n",
            " [   4    5    5    1 2836    1   15   11    4   48]\n",
            " [  19    4    3   37    5 2640   24    2   20   13]\n",
            " [  10    2    4    0    8   22 2969    0    7    0]\n",
            " [   4   18   39    6   11    1    0 3046    5   28]\n",
            " [   2   21   22   31   25   29   17    2 2676   31]\n",
            " [  13    6   11   34   35    8    3   26   17 2832]]\n",
            "\n",
            "Training Knn...\n",
            "Accuracy: 0.9373666666666667, Precision: 0.9375659912686121, Recall: 0.9373666666666667, F1-score: 0.937129692605269\n",
            "Confusion Matrix:\n",
            "[[2909    3    6    1    1    9   24    1    1    1]\n",
            " [   1 3294   15    2    4    0    8    3    1    1]\n",
            " [  34   41 2699   47   13    7   27   31   13    8]\n",
            " [  10    7   47 2868    1   55    5   33   32   19]\n",
            " [   4   33   30    2 2713    5   15   10    4  114]\n",
            " [  21    7    7  100   16 2516   47    5   27   21]\n",
            " [  30    3   11    0    5   13 2954    1    5    0]\n",
            " [   6   44   11    8   37    2    0 2937    2  111]\n",
            " [  23   49   32   64   28  105   11   13 2499   32]\n",
            " [  20    5   21   27   65   10    0  100    5 2732]]\n",
            "\n",
            "Training Logistic Regression...\n"
          ]
        },
        {
          "output_type": "stream",
          "name": "stderr",
          "text": [
            "/usr/local/lib/python3.10/dist-packages/sklearn/linear_model/_logistic.py:458: ConvergenceWarning: lbfgs failed to converge (status=1):\n",
            "STOP: TOTAL NO. of ITERATIONS REACHED LIMIT.\n",
            "\n",
            "Increase the number of iterations (max_iter) or scale the data as shown in:\n",
            "    https://scikit-learn.org/stable/modules/preprocessing.html\n",
            "Please also refer to the documentation for alternative solver options:\n",
            "    https://scikit-learn.org/stable/modules/linear_model.html#logistic-regression\n",
            "  n_iter_i = _check_optimize_result(\n"
          ]
        },
        {
          "output_type": "stream",
          "name": "stdout",
          "text": [
            "Accuracy: 0.9083541666666667, Precision: 0.9079575825071212, Recall: 0.9083541666666667, F1-score: 0.9079595402345858\n",
            "Confusion Matrix:\n",
            "[[4586    4   18   14   12   32   45   12   24    4]\n",
            " [   1 5174   28   25    7   28    5   15   64    8]\n",
            " [  40   48 4234   88   52   14   62   90   89   25]\n",
            " [  26   34  138 4370   15  187   11   53   84   48]\n",
            " [   9   20   25    8 4309   12   61   27   34  198]\n",
            " [  88   41   30  128   66 3705   97   36  128   36]\n",
            " [  39   10   44    2   40   55 4504    4   11    2]\n",
            " [  23   36   61   31   66    5    1 4582    9  193]\n",
            " [  35  139   82  151   39  142   68   32 3879   80]\n",
            " [  29   26   11   53  169   33    2  141   41 4258]]\n",
            "\n",
            "Training Random Forest...\n",
            "Accuracy: 0.9514375, Precision: 0.9513945354753574, Recall: 0.9514375, F1-score: 0.9513606217164394\n",
            "Confusion Matrix:\n",
            "[[4667    1   12    2    6    9   19    1   31    3]\n",
            " [   1 5260   23   16   16   10   10    7    9    3]\n",
            " [  32   15 4504   27   30    5   34   44   39   12]\n",
            " [   9   15   98 4601    5   87   10   47   56   38]\n",
            " [   5    7   16    0 4495    2   27    9   12  130]\n",
            " [  44   21   10   84   14 4043   52    3   45   39]\n",
            " [  24    8    6    1   14   27 4616    0   15    0]\n",
            " [  13   29   61    7   33    3    0 4765    9   87]\n",
            " [   5   42   46   63   32   48   32    3 4301   75]\n",
            " [  28   15   15   69   85   24    3   63   44 4417]]\n",
            "\n",
            "Training Knn...\n",
            "Accuracy: 0.9184583333333334, Precision: 0.918736439784019, Recall: 0.9184583333333334, F1-score: 0.9180246717398896\n",
            "Confusion Matrix:\n",
            "[[4657    6   15    9    1   20   32    2    7    2]\n",
            " [   2 5309   13    2    6    1   11    7    2    2]\n",
            " [  83   77 4265   99   28   10   61   63   43   13]\n",
            " [  19   24   90 4532    7  101    9   83   62   39]\n",
            " [  19   79   56   11 4276   14   32   20    8  188]\n",
            " [  45   16   15  207   28 3822   93   16   63   50]\n",
            " [  78   12   22    4   14   42 4532    3    4    0]\n",
            " [  12   81   33   22   86    5    3 4541    2  222]\n",
            " [  57  102   59  160   56  199   22   22 3919   51]\n",
            " [  41   33   32   42  148    9    0  212   13 4233]]\n",
            "\n",
            "Training Logistic Regression...\n"
          ]
        },
        {
          "output_type": "stream",
          "name": "stderr",
          "text": [
            "/usr/local/lib/python3.10/dist-packages/sklearn/linear_model/_logistic.py:458: ConvergenceWarning: lbfgs failed to converge (status=1):\n",
            "STOP: TOTAL NO. of ITERATIONS REACHED LIMIT.\n",
            "\n",
            "Increase the number of iterations (max_iter) or scale the data as shown in:\n",
            "    https://scikit-learn.org/stable/modules/preprocessing.html\n",
            "Please also refer to the documentation for alternative solver options:\n",
            "    https://scikit-learn.org/stable/modules/linear_model.html#logistic-regression\n",
            "  n_iter_i = _check_optimize_result(\n"
          ]
        },
        {
          "output_type": "stream",
          "name": "stdout",
          "text": [
            "Accuracy: 0.8384680134680135, Precision: 0.8380890955696776, Recall: 0.8384680134680135, F1-score: 0.8373498533835085\n",
            "Confusion Matrix:\n",
            "[[5469   10  141   31   16  113   23   20   35    9]\n",
            " [   2 6442   30   14   12   24   20   20  106    5]\n",
            " [  76  129 4838  182   81   17  129  119  304   20]\n",
            " [  38  111  220 4806   37  368   56   59  283   87]\n",
            " [  36   47   84    2 5086   39  110   25   37  327]\n",
            " [ 106  146   99  331  134 3839  260   26  242  187]\n",
            " [ 161   86  122    5  152   46 5243   21   19    1]\n",
            " [  49  147   83  108  207   57    2 4987   30  535]\n",
            " [  50  253  119  270  126  288   94   23 4430  130]\n",
            " [  56   64  122  117  411   60   18  273  105 4665]]\n",
            "\n",
            "Training Random Forest...\n",
            "Accuracy: 0.8677272727272727, Precision: 0.8711757288387353, Recall: 0.8677272727272727, F1-score: 0.8673703151922436\n",
            "Confusion Matrix:\n",
            "[[5581    0   24   36    5   38  105    4   70    4]\n",
            " [   0 6502   29   24    7    5   11   16   76    5]\n",
            " [ 101  192 4940  154   57    7  127   96  204   17]\n",
            " [  31  105  171 5199   15  125   33   44  273   69]\n",
            " [  15   51   61   17 4899    6  125   22   49  548]\n",
            " [  63   92   23  733   92 3903  169   11  117  167]\n",
            " [  74   70   64    9  118   57 5449    2   13    0]\n",
            " [  62  116  132   72  167   14    0 5275   58  309]\n",
            " [  23  132   82  542   38   64   58   11 4696  137]\n",
            " [  40   59   49  121  190   24   13  137  159 5099]]\n",
            "\n",
            "Training Knn...\n",
            "Accuracy: 0.7913636363636364, Precision: 0.7997715262501894, Recall: 0.7913636363636364, F1-score: 0.7888635782219078\n",
            "Confusion Matrix:\n",
            "[[5603   15   56   33   12   61   37    3   42    5]\n",
            " [   1 6611   16    3    5    3    9    7   17    3]\n",
            " [ 233  634 4314  285   61   15   82   81  183    7]\n",
            " [ 186  386  250 4748   13  153   11   51  216   51]\n",
            " [  38  308  100   17 4671   40   18   60    5  536]\n",
            " [ 279  286   82  875  139 3266  111   25  170  137]\n",
            " [ 366  184   90   20   75   60 5037    0   22    2]\n",
            " [  17  370   81  129  210    4    0 4747    3  644]\n",
            " [ 207  400  170  556   96  280   30   30 3927   87]\n",
            " [  48  136   88   96  624   25    1  765   25 4083]]\n",
            "\n"
          ]
        }
      ],
      "source": [
        "# Download the MNIST dataset\n",
        "(x_train, y_train), (x_test, y_test) = mnist.load_data()\n",
        "\n",
        "# Display a few images and labels\n",
        "plt.figure(figsize=(10, 5))\n",
        "for i in range(5):\n",
        "    plt.subplot(1, 5, i + 1)\n",
        "    plt.imshow(x_train[i], cmap='gray')\n",
        "    plt.title(f\"Label: {y_train[i]}\")\n",
        "    plt.axis('off')\n",
        "plt.show()\n",
        "\n",
        "# Data representation/vectorization\n",
        "x_train_flat = x_train.reshape(x_train.shape[0], -1)\n",
        "x_test_flat = x_test.reshape(x_test.shape[0], -1)\n",
        "\n",
        "# Data normalization\n",
        "scaler = StandardScaler()\n",
        "x_train_norm = scaler.fit_transform(x_train_flat.astype(float))\n",
        "x_test_norm = scaler.transform(x_test_flat.astype(float))\n",
        "\n",
        "# Data splitting\n",
        "# Try different ratios: 80:20, 50:50, 20:80, 1:99\n",
        "split_ratios=[0.2,0.5,0.8,0.99]\n",
        "for test_size in split_ratios:\n",
        "  x_train_split, x_val, y_train_split, y_val = train_test_split(x_train_norm, y_train, test_size=test_size, random_state=42)\n",
        "\n",
        "  # Model selection\n",
        "  models = {\n",
        "      \"Logistic Regression\": LogisticRegression(max_iter=10),\n",
        "      \"Random Forest\": RandomForestClassifier(),\n",
        "     \"Knn\": KNeighborsClassifier(n_neighbors=3)\n",
        "  }\n",
        "\n",
        "  # Model training and evaluation\n",
        "  for name, model in models.items():\n",
        "      print(f\"Training {name}...\")\n",
        "      model.fit(x_train_split, y_train_split)\n",
        "      y_pred = model.predict(x_val)\n",
        "      acc = accuracy_score(y_val, y_pred)\n",
        "      prec = precision_score(y_val, y_pred, average='weighted')\n",
        "      rec = recall_score(y_val, y_pred, average='weighted')\n",
        "      f1 = f1_score(y_val, y_pred, average='weighted')\n",
        "      cm = confusion_matrix(y_val, y_pred)\n",
        "      print(f\"Accuracy: {acc}, Precision: {prec}, Recall: {rec}, F1-score: {f1}\")\n",
        "      print(f\"Confusion Matrix:\\n{cm}\\n\")\n",
        "\n"
      ]
    },
    {
      "cell_type": "markdown",
      "metadata": {
        "id": "S916r_VFRddU"
      },
      "source": [
        "###Improving the accuracy of the model for a 1:99 data split\n"
      ]
    },
    {
      "cell_type": "code",
      "source": [
        "from sklearn.ensemble import RandomForestClassifier\n",
        "from sklearn.metrics import accuracy_score, precision_score, recall_score, f1_score, confusion_matrix\n",
        "from sklearn.preprocessing import StandardScaler\n",
        "from skimage.feature import hog\n",
        "from sklearn.model_selection import train_test_split\n",
        "import numpy as np\n",
        "\n",
        "# Reshape and normalize the images\n",
        "x_train_flat = x_train.reshape(x_train.shape[0], -1).astype('float32') / 255\n",
        "x_test_flat = x_test.reshape(x_test.shape[0], -1).astype('float32') / 255\n",
        "\n",
        "# Extract HOG features\n",
        "hog_features_train = np.array([hog(image.reshape(28, 28), block_norm='L2-Hys') for image in x_train_flat])\n",
        "hog_features_test = np.array([hog(image.reshape(28, 28), block_norm='L2-Hys') for image in x_test_flat])\n",
        "\n",
        "# Train-test split\n",
        "x_train_hog, x_val_hog, y_train_hog, y_val_hog = train_test_split(hog_features_train, y_train, test_size=0.99, random_state=42)\n",
        "\n",
        "# Define and train Random Forest classifier\n",
        "rf = RandomForestClassifier(n_estimators=100, max_depth=10, random_state=42)\n",
        "rf.fit(x_train_hog, y_train_hog)\n",
        "\n",
        "# Predict on validation set\n",
        "y_pred = rf.predict(x_val_hog)\n",
        "\n",
        "# Evaluate the model\n",
        "acc = accuracy_score(y_val_hog, y_pred)\n",
        "prec = precision_score(y_val_hog, y_pred, average='weighted')\n",
        "rec = recall_score(y_val_hog, y_pred, average='weighted')\n",
        "f1 = f1_score(y_val_hog, y_pred, average='weighted')\n",
        "cm = confusion_matrix(y_val_hog, y_pred)\n",
        "\n",
        "print(f\"Random Forest (with HOG) - Accuracy: {acc}, Precision: {prec}, Recall: {rec}, F1-score: {f1}\")\n",
        "print(f\"Confusion Matrix:\\n{cm}\")\n",
        "\n",
        "# Evaluate on test set\n",
        "y_test_pred = rf.predict(hog_features_test)\n",
        "acc_test = accuracy_score(y_test, y_test_pred)\n",
        "print(f\"Accuracy on Test Set: {acc_test}\")\n"
      ],
      "metadata": {
        "colab": {
          "base_uri": "https://localhost:8080/"
        },
        "id": "G2m36PY3ywda",
        "outputId": "4b77b607-e4d7-4784-f8c4-5d5986b53020"
      },
      "execution_count": 15,
      "outputs": [
        {
          "output_type": "stream",
          "name": "stdout",
          "text": [
            "Random Forest (with HOG) - Accuracy: 0.8752020202020202, Precision: 0.8771044778335438, Recall: 0.8752020202020202, F1-score: 0.8751201296905402\n",
            "Confusion Matrix:\n",
            "[[5425   82   32   36   22   20  132    4   86   28]\n",
            " [   0 6503   96    0   36    2   11    7   18    2]\n",
            " [  55   21 5330  249   20   55   48   15   87   15]\n",
            " [  46    4  194 5164    7   73   18   22  403  134]\n",
            " [  32  166  151   16 4833   21  161  134   74  205]\n",
            " [  15   10   21  553   17 4322  146   16  211   59]\n",
            " [  53   22   13    4   33   57 5628    0   46    0]\n",
            " [  14   61  256  153  142   18    4 5195   46  316]\n",
            " [  65   39  125  414   40  131   66   35 4734  134]\n",
            " [  48   63   11   93   82   20    7  475  239 4853]]\n",
            "Accuracy on Test Set: 0.8836\n"
          ]
        }
      ]
    },
    {
      "cell_type": "code",
      "execution_count": null,
      "metadata": {
        "id": "3R2JBMgGZQNJ"
      },
      "outputs": [],
      "source": []
    }
  ],
  "metadata": {
    "colab": {
      "provenance": []
    },
    "kernelspec": {
      "display_name": "Python 3",
      "name": "python3"
    },
    "language_info": {
      "name": "python"
    }
  },
  "nbformat": 4,
  "nbformat_minor": 0
}